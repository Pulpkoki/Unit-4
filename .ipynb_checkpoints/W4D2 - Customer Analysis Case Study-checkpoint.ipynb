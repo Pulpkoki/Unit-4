{
 "cells": [
  {
   "cell_type": "markdown",
   "id": "6e23e063",
   "metadata": {},
   "source": [
    "# **Activity Lab Week 4: Data Transformation**\n",
    "**Tommaso & Costanza**"
   ]
  },
  {
   "cell_type": "code",
   "execution_count": null,
   "id": "8d9cf04c",
   "metadata": {},
   "outputs": [],
   "source": [
    "import pandas as pd\n",
    "import numpy as np \n",
    "import seaborn as sns\n",
    "import matplotlib.pyplot as plt\n",
    "import warnings\n",
    "warnings.filterwarnings('ignore')"
   ]
  },
  {
   "cell_type": "code",
   "execution_count": null,
   "id": "d66856a6",
   "metadata": {},
   "outputs": [],
   "source": [
    "#Check if there are highly correlated features and drop them if there are any."
   ]
  },
  {
   "cell_type": "code",
   "execution_count": null,
   "id": "eed0aef9",
   "metadata": {},
   "outputs": [],
   "source": [
    "df = pd.read_csv(\"Data_Marketing_Customer_Analysis_Round3.csv\")"
   ]
  },
  {
   "cell_type": "code",
   "execution_count": null,
   "id": "5762fbdd",
   "metadata": {},
   "outputs": [],
   "source": [
    "fig = plt.figure(figsize=(8,6))\n",
    "sns.heatmap(df_num.corr(), cmap='vlag', square=True, annot=True)"
   ]
  },
  {
   "cell_type": "code",
   "execution_count": null,
   "id": "17c58735",
   "metadata": {},
   "outputs": [],
   "source": [
    "corr = df.corr()\n",
    "mask = np.zeros_like(corr)\n",
    "mask[np.triu_indices_from(mask)] = True\n",
    "with sns.axes_style(\"white\"):\n",
    "    f, ax = plt.subplots(figsize=(9, 7))\n",
    "    ax = sns.heatmap(corr, mask=mask,cmap='coolwarm', vmin=-1,vmax=1,annot=True, square=True)"
   ]
  },
  {
   "cell_type": "code",
   "execution_count": null,
   "id": "4dcf3ec8",
   "metadata": {},
   "outputs": [],
   "source": [
    "#One Hot/Label Encoding of the categorical variables in the categoricals data frame \n",
    "#that you created in Activity 4. \n",
    "#(Hint: check Dropfirst option)"
   ]
  },
  {
   "cell_type": "code",
   "execution_count": null,
   "id": "ad355fd1",
   "metadata": {},
   "outputs": [],
   "source": [
    "df=pd.get_dummies(df, drop_first=True)\n",
    "df.head(5)"
   ]
  },
  {
   "cell_type": "code",
   "execution_count": null,
   "id": "de59cd5c",
   "metadata": {},
   "outputs": [],
   "source": [
    "#for the first iteration, we will focus on the  numericals data (numericals data frame) as our data source."
   ]
  },
  {
   "cell_type": "code",
   "execution_count": null,
   "id": "452dc8b8",
   "metadata": {},
   "outputs": [],
   "source": [
    "df_num = df.iloc[:,1:].select_dtypes(np.number)\n",
    "df_cat = df.select_dtypes(object)\n",
    "df_num"
   ]
  },
  {
   "cell_type": "code",
   "execution_count": null,
   "id": "29788684",
   "metadata": {},
   "outputs": [],
   "source": [
    "#(optional)  remove the outliers from the numerical columns."
   ]
  },
  {
   "cell_type": "code",
   "execution_count": null,
   "id": "04e89a74",
   "metadata": {},
   "outputs": [],
   "source": [
    "pd.cut(df_num['total_claim_amount'],10)"
   ]
  },
  {
   "cell_type": "code",
   "execution_count": null,
   "id": "4c0654c9",
   "metadata": {},
   "outputs": [],
   "source": [
    "df_num"
   ]
  },
  {
   "cell_type": "code",
   "execution_count": null,
   "id": "58d8a061",
   "metadata": {},
   "outputs": [],
   "source": [
    "df_num['total_claim_amount']\n",
    "removed_outliers = df_num['total_claim_amount'].between(df_num['total_claim_amount'].quantile(.05), df_num['total_claim_amount'].quantile(.95))\n",
    "removed_outliers"
   ]
  },
  {
   "cell_type": "code",
   "execution_count": null,
   "id": "dc8dfcd4",
   "metadata": {},
   "outputs": [],
   "source": [
    "df_num=df_num.loc[removed_outliers]"
   ]
  },
  {
   "cell_type": "code",
   "execution_count": null,
   "id": "92ee4b76",
   "metadata": {},
   "outputs": [],
   "source": [
    "df_num"
   ]
  },
  {
   "cell_type": "code",
   "execution_count": null,
   "id": "38664dd2",
   "metadata": {},
   "outputs": [],
   "source": [
    "#X-y split (y is the target variable which  is the total claim amount)\n",
    "x=df_num.drop('total_claim_amount', axis=1)\n",
    "y=df_num.total_claim_amount\n",
    "x"
   ]
  },
  {
   "cell_type": "code",
   "execution_count": null,
   "id": "49a77edf",
   "metadata": {},
   "outputs": [],
   "source": [
    "y"
   ]
  },
  {
   "cell_type": "code",
   "execution_count": null,
   "id": "a88e3271",
   "metadata": {},
   "outputs": [],
   "source": [
    "plt.boxplot(df_num['total_claim_amount'], widths=.5)"
   ]
  },
  {
   "cell_type": "code",
   "execution_count": null,
   "id": "59656d7e",
   "metadata": {},
   "outputs": [],
   "source": []
  },
  {
   "cell_type": "code",
   "execution_count": null,
   "id": "04f2bb13",
   "metadata": {},
   "outputs": [],
   "source": []
  },
  {
   "cell_type": "code",
   "execution_count": null,
   "id": "8a9cb735",
   "metadata": {},
   "outputs": [],
   "source": []
  },
  {
   "cell_type": "code",
   "execution_count": null,
   "id": "441e5821",
   "metadata": {},
   "outputs": [],
   "source": []
  }
 ],
 "metadata": {
  "kernelspec": {
   "display_name": "Python 3 (ipykernel)",
   "language": "python",
   "name": "python3"
  },
  "language_info": {
   "codemirror_mode": {
    "name": "ipython",
    "version": 3
   },
   "file_extension": ".py",
   "mimetype": "text/x-python",
   "name": "python",
   "nbconvert_exporter": "python",
   "pygments_lexer": "ipython3",
   "version": "3.9.12"
  }
 },
 "nbformat": 4,
 "nbformat_minor": 5
}
