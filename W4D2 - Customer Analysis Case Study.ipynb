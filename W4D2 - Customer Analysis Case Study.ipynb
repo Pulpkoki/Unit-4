{
 "cells": [
  {
   "cell_type": "markdown",
   "id": "cba40118",
   "metadata": {},
   "source": [
    "# **Activity Lab Week 4: Data Transformation**\n",
    "**Tommaso & Costanza**"
   ]
  },
  {
   "cell_type": "code",
   "execution_count": 100,
   "id": "8d9cf04c",
   "metadata": {},
   "outputs": [],
   "source": [
    "import pandas as pd\n",
    "import numpy as np \n",
    "import seaborn as sns\n",
    "import matplotlib.pyplot as plt\n",
    "import warnings\n",
    "warnings.filterwarnings('ignore')"
   ]
  },
  {
   "cell_type": "code",
   "execution_count": 101,
   "id": "2fdfb454",
   "metadata": {},
   "outputs": [],
   "source": [
    "#Check if there are highly correlated features and drop them if there are any."
   ]
  },
  {
   "cell_type": "code",
   "execution_count": 102,
   "id": "e3c3c100",
   "metadata": {},
   "outputs": [],
   "source": [
    "df = pd.read_csv(\"Data_Marketing_Customer_Analysis_Round3.csv\")"
   ]
  },
  {
   "cell_type": "code",
   "execution_count": null,
   "id": "2df33d70",
   "metadata": {},
   "outputs": [
    {
     "data": {
      "text/plain": [
       "<AxesSubplot:>"
      ]
     },
     "execution_count": 103,
     "metadata": {},
     "output_type": "execute_result"
    }
   ],
   "source": [
    "fig = plt.figure(figsize=(8,6))\n",
    "sns.heatmap(df_num.corr(), cmap='vlag', square=True, annot=True)"
   ]
  },
  {
   "cell_type": "code",
   "execution_count": null,
   "id": "0e253e13",
   "metadata": {},
   "outputs": [],
   "source": [
    "corr = df.corr()\n",
    "mask = np.zeros_like(corr)\n",
    "mask[np.triu_indices_from(mask)] = True\n",
    "with sns.axes_style(\"white\"):\n",
    "    f, ax = plt.subplots(figsize=(9, 7))\n",
    "    ax = sns.heatmap(corr, mask=mask,cmap='coolwarm', vmin=-1,vmax=1,annot=True, square=True)"
   ]
  },
  {
   "cell_type": "code",
   "execution_count": null,
   "id": "5aa84350",
   "metadata": {},
   "outputs": [],
   "source": [
    "#One Hot/Label Encoding of the categorical variables in the categoricals data frame \n",
    "#that you created in Activity 4. \n",
    "#(Hint: check Dropfirst option)"
   ]
  },
  {
   "cell_type": "code",
   "execution_count": null,
   "id": "6027e7f9",
   "metadata": {},
   "outputs": [],
   "source": [
    "df=pd.get_dummies(df, drop_first=True)\n",
    "df.head(5)"
   ]
  },
  {
   "cell_type": "code",
   "execution_count": null,
   "id": "328b0f9b",
   "metadata": {},
   "outputs": [],
   "source": [
    "#for the first iteration, we will focus on the  numericals data (numericals data frame) as our data source."
   ]
  },
  {
   "cell_type": "code",
   "execution_count": null,
   "id": "7e3718c8",
   "metadata": {},
   "outputs": [],
   "source": [
    "df_num = df.iloc[:,1:].select_dtypes(np.number)\n",
    "df_cat = df.select_dtypes(object)\n",
    "df_num"
   ]
  },
  {
   "cell_type": "code",
   "execution_count": null,
   "id": "e495168d",
   "metadata": {},
   "outputs": [],
   "source": [
    "#(optional)  remove the outliers from the numerical columns."
   ]
  },
  {
   "cell_type": "code",
   "execution_count": null,
   "id": "3606ccd4",
   "metadata": {},
   "outputs": [],
   "source": [
    "pd.cut(df_num['total_claim_amount'],10)"
   ]
  },
  {
   "cell_type": "code",
   "execution_count": null,
   "id": "8060d948",
   "metadata": {},
   "outputs": [],
   "source": [
    "df_num"
   ]
  },
  {
   "cell_type": "code",
   "execution_count": null,
   "id": "decf5f85",
   "metadata": {},
   "outputs": [],
   "source": [
    "df_num['total_claim_amount']\n",
    "removed_outliers = df_num['total_claim_amount'].between(df_num['total_claim_amount'].quantile(.05), df_num['total_claim_amount'].quantile(.95))\n",
    "removed_outliers"
   ]
  },
  {
   "cell_type": "code",
   "execution_count": null,
   "id": "50a4452b",
   "metadata": {},
   "outputs": [],
   "source": [
    "df_num=df_num.loc[removed_outliers]"
   ]
  },
  {
   "cell_type": "code",
   "execution_count": null,
   "id": "fd874e8a",
   "metadata": {},
   "outputs": [],
   "source": [
    "df_num"
   ]
  },
  {
   "cell_type": "code",
   "execution_count": null,
   "id": "931be325",
   "metadata": {},
   "outputs": [],
   "source": [
    "#X-y split (y is the target variable which  is the total claim amount)\n",
    "x=df_num.drop('total_claim_amount', axis=1)\n",
    "y=df_num.total_claim_amount\n",
    "x"
   ]
  },
  {
   "cell_type": "code",
   "execution_count": null,
   "id": "3d68f3a4",
   "metadata": {},
   "outputs": [],
   "source": [
    "y"
   ]
  },
  {
   "cell_type": "code",
   "execution_count": null,
   "id": "5c2248c8",
   "metadata": {},
   "outputs": [],
   "source": [
    "plt.boxplot(df_num['total_claim_amount'], widths=.5)"
   ]
  },
  {
   "cell_type": "code",
   "execution_count": null,
   "id": "bdc0b9f0",
   "metadata": {},
   "outputs": [],
   "source": []
  },
  {
   "cell_type": "code",
   "execution_count": null,
   "id": "39ef114e",
   "metadata": {},
   "outputs": [],
   "source": []
  },
  {
   "cell_type": "code",
   "execution_count": null,
   "id": "442c673c",
   "metadata": {},
   "outputs": [],
   "source": []
  },
  {
   "cell_type": "code",
   "execution_count": null,
   "id": "d4b3d79e",
   "metadata": {},
   "outputs": [],
   "source": []
  }
 ],
 "metadata": {
  "kernelspec": {
   "display_name": "Python 3 (ipykernel)",
   "language": "python",
   "name": "python3"
  },
  "language_info": {
   "codemirror_mode": {
    "name": "ipython",
    "version": 3
   },
   "file_extension": ".py",
   "mimetype": "text/x-python",
   "name": "python",
   "nbconvert_exporter": "python",
   "pygments_lexer": "ipython3",
   "version": "3.9.12"
  }
 },
 "nbformat": 4,
 "nbformat_minor": 5
}
