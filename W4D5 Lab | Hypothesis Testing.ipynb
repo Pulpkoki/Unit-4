{
 "cells": [
  {
   "cell_type": "code",
   "execution_count": null,
   "id": "9a3df7a2",
   "metadata": {},
   "outputs": [],
   "source": [
    "#Instructions\n",
    "#It is assumed that the mean systolic blood pressure is μ = 120 mm Hg. \n",
    "#In the Honolulu Heart Study, a sample of n = 100 people had an average systolic blood pressure of 130.1 mm Hg with a standard deviation of 21.21 mm Hg. \n",
    "#Is the group significantly different (with respect to systolic blood pressure!) from the regular population?\n",
    "\n",
    "#Set up the hypothesis test.\n",
    "#Write down all the steps followed for setting up the test.\n",
    "#Calculate the test statistic by hand and also code it in Python. \n",
    "#It should be 4.76190. What decision can you make based on this calculated value?"
   ]
  }
 ],
 "metadata": {
  "kernelspec": {
   "display_name": "Python 3 (ipykernel)",
   "language": "python",
   "name": "python3"
  },
  "language_info": {
   "codemirror_mode": {
    "name": "ipython",
    "version": 3
   },
   "file_extension": ".py",
   "mimetype": "text/x-python",
   "name": "python",
   "nbconvert_exporter": "python",
   "pygments_lexer": "ipython3",
   "version": "3.9.12"
  },
  "toc": {
   "base_numbering": 1,
   "nav_menu": {},
   "number_sections": true,
   "sideBar": true,
   "skip_h1_title": false,
   "title_cell": "Table of Contents",
   "title_sidebar": "Contents",
   "toc_cell": false,
   "toc_position": {},
   "toc_section_display": true,
   "toc_window_display": false
  }
 },
 "nbformat": 4,
 "nbformat_minor": 5
}
