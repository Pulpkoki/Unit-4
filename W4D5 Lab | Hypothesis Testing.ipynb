{
 "cells": [
  {
   "cell_type": "code",
   "execution_count": null,
   "id": "a847c8e5",
   "metadata": {},
   "outputs": [],
   "source": [
    "#Instructions\n",
    "#It is assumed that the mean systolic blood pressure is μ = 120 mm Hg. \n",
    "#In the Honolulu Heart Study, a sample of n = 100 people had an average systolic blood pressure of 130.1 mm Hg with a standard deviation of 21.21 mm Hg. \n",
    "#Is the group significantly different (with respect to systolic blood pressure!) from the regular population?\n",
    "\n",
    "#Set up the hypothesis test.\n",
    "#Write down all the steps followed for setting up the test.\n",
    "#Calculate the test statistic by hand and also code it in Python. \n",
    "#It should be 4.76190. What decision can you make based on this calculated value?"
   ]
  },
  {
   "cell_type": "code",
   "execution_count": 1,
   "id": "6ca60abe",
   "metadata": {},
   "outputs": [],
   "source": [
    "from math import sqrt\n",
    "import pandas as pd\n",
    "import numpy as np\n",
    "import scipy.stats as stats"
   ]
  },
  {
   "cell_type": "code",
   "execution_count": 2,
   "id": "12c4edf7",
   "metadata": {},
   "outputs": [],
   "source": [
    "mu = 120 # null hypothesis is that the mean is mu=120\n",
    "# sample statistics\n",
    "n          = 100 \n",
    "samp_avg   = 130.1\n",
    "samp_stdev = 21.21 "
   ]
  },
  {
   "cell_type": "code",
   "execution_count": 3,
   "id": "4b6e973d",
   "metadata": {},
   "outputs": [],
   "source": [
    "t_test = (samp_avg-mu)/(samp_stdev/sqrt(n))"
   ]
  },
  {
   "cell_type": "code",
   "execution_count": 4,
   "id": "c9ea36a1",
   "metadata": {},
   "outputs": [
    {
     "data": {
      "text/plain": [
       "4.761904761904759"
      ]
     },
     "execution_count": 4,
     "metadata": {},
     "output_type": "execute_result"
    }
   ],
   "source": [
    "t_test"
   ]
  },
  {
   "cell_type": "code",
   "execution_count": 5,
   "id": "edba569a",
   "metadata": {},
   "outputs": [
    {
     "data": {
      "text/plain": [
       "1.9842169515086827"
      ]
     },
     "execution_count": 5,
     "metadata": {},
     "output_type": "execute_result"
    }
   ],
   "source": [
    "tc = stats.t.ppf(0.975,df = n-1)\n",
    "tc"
   ]
  },
  {
   "cell_type": "code",
   "execution_count": 6,
   "id": "eb969395",
   "metadata": {},
   "outputs": [
    {
     "data": {
      "text/plain": [
       "True"
      ]
     },
     "execution_count": 6,
     "metadata": {},
     "output_type": "execute_result"
    }
   ],
   "source": [
    "t_test > tc"
   ]
  },
  {
   "cell_type": "code",
   "execution_count": 7,
   "id": "18eaa754",
   "metadata": {},
   "outputs": [],
   "source": [
    "#The null hypothesis is not supported by the data"
   ]
  },
  {
   "cell_type": "code",
   "execution_count": 9,
   "id": "5a6d19b4",
   "metadata": {},
   "outputs": [],
   "source": [
    "h0_machines = \"average speed of new machine is less than old machine\""
   ]
  },
  {
   "cell_type": "code",
   "execution_count": 11,
   "id": "1c18e2c6",
   "metadata": {},
   "outputs": [],
   "source": [
    "nr = 10"
   ]
  },
  {
   "cell_type": "code",
   "execution_count": 14,
   "id": "22e3e665",
   "metadata": {},
   "outputs": [
    {
     "data": {
      "text/plain": [
       "2.2281388519649385"
      ]
     },
     "execution_count": 14,
     "metadata": {},
     "output_type": "execute_result"
    }
   ],
   "source": [
    "from scipy import stats\n",
    "tc = stats.t.ppf(1-(0.05/2),df = nr)\n",
    "tc"
   ]
  },
  {
   "cell_type": "code",
   "execution_count": null,
   "id": "334df71e",
   "metadata": {},
   "outputs": [],
   "source": []
  }
 ],
 "metadata": {
  "kernelspec": {
   "display_name": "Python 3 (ipykernel)",
   "language": "python",
   "name": "python3"
  },
  "language_info": {
   "codemirror_mode": {
    "name": "ipython",
    "version": 3
   },
   "file_extension": ".py",
   "mimetype": "text/x-python",
   "name": "python",
   "nbconvert_exporter": "python",
   "pygments_lexer": "ipython3",
   "version": "3.9.12"
  },
  "toc": {
   "base_numbering": 1,
   "nav_menu": {},
   "number_sections": true,
   "sideBar": true,
   "skip_h1_title": false,
   "title_cell": "Table of Contents",
   "title_sidebar": "Contents",
   "toc_cell": false,
   "toc_position": {},
   "toc_section_display": true,
   "toc_window_display": false
  }
 },
 "nbformat": 4,
 "nbformat_minor": 5
}
